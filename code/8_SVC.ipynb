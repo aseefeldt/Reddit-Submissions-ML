{
 "cells": [
  {
   "cell_type": "markdown",
   "id": "d98d8532-4758-485a-9036-716139abade1",
   "metadata": {},
   "source": [
    "## Imports"
   ]
  },
  {
   "cell_type": "code",
   "execution_count": 1,
   "id": "c15f418b-8ac7-4970-ac55-8e6394302cb0",
   "metadata": {},
   "outputs": [],
   "source": [
    "import pandas as pd \n",
    "import matplotlib.pyplot as plt\n",
    "\n",
    "from sklearn.feature_extraction.text import CountVectorizer\n",
    "from sklearn.model_selection import train_test_split\n",
    "from sklearn.pipeline import Pipeline\n",
    "from sklearn.metrics import confusion_matrix, ConfusionMatrixDisplay, classification_report\n",
    "from sklearn.model_selection import GridSearchCV\n",
    "from nltk.stem import WordNetLemmatizer, PorterStemmer\n",
    "from nltk.corpus import stopwords\n",
    "from sklearn.svm import LinearSVC, SVC\n",
    "from sklearn.preprocessing import StandardScaler\n",
    "\n",
    "import warnings\n",
    "warnings.filterwarnings('ignore')"
   ]
  },
  {
   "cell_type": "markdown",
   "id": "987fbaf3-2727-477c-9066-c88a5b82aa7b",
   "metadata": {},
   "source": [
    "## Reading in Data "
   ]
  },
  {
   "cell_type": "code",
   "execution_count": 2,
   "id": "2992db21-ddfd-415a-877a-fa99f11a33b4",
   "metadata": {},
   "outputs": [],
   "source": [
    "df = pd.read_csv('../datasets/subs2.csv', encoding='utf-8')\n"
   ]
  },
  {
   "cell_type": "code",
   "execution_count": 3,
   "id": "ccac7035-8e78-4ad8-b95d-37b79e92f999",
   "metadata": {},
   "outputs": [
    {
     "data": {
      "text/plain": [
       "(3408, 4)"
      ]
     },
     "execution_count": 3,
     "metadata": {},
     "output_type": "execute_result"
    }
   ],
   "source": [
    "df.shape"
   ]
  },
  {
   "cell_type": "markdown",
   "id": "8989fe9b-ea58-44c5-a93b-21265131d0d6",
   "metadata": {},
   "source": [
    "## Reading in Custom Stopwords\n"
   ]
  },
  {
   "cell_type": "code",
   "execution_count": 4,
   "id": "08de2ef4-4285-425b-ad5d-f4dc060e5649",
   "metadata": {},
   "outputs": [],
   "source": [
    "stopwords_df = pd.read_csv('../datasets/custom_stopwords.csv')\n",
    "stopwords_new = stopwords_df['custom_stopwords'].tolist()\n",
    "stopwords = stopwords.words('english')\n",
    "stopwords_custom = stopwords +stopwords_new"
   ]
  },
  {
   "cell_type": "markdown",
   "id": "86e5c371-0265-46d3-b6bd-0f9edbea5691",
   "metadata": {
    "tags": []
   },
   "source": [
    "## Setting up Data "
   ]
  },
  {
   "cell_type": "code",
   "execution_count": 5,
   "id": "0f196614-c9ff-4a5c-96e8-8d6c4708878d",
   "metadata": {},
   "outputs": [],
   "source": [
    "X= df['self_text']\n",
    "y=df['subreddit']"
   ]
  },
  {
   "cell_type": "markdown",
   "id": "8868e75f-cfce-4785-8498-1a4050231469",
   "metadata": {},
   "source": [
    "## Train Test Split "
   ]
  },
  {
   "cell_type": "code",
   "execution_count": 6,
   "id": "cd1a11c9-b01b-4295-a2ba-d146f4d268d9",
   "metadata": {},
   "outputs": [],
   "source": [
    "X_train, X_test, y_train, y_test = train_test_split(X, y, random_state=42)"
   ]
  },
  {
   "cell_type": "markdown",
   "id": "841f22ce-1063-4095-a6d6-72e700ee5634",
   "metadata": {},
   "source": [
    "## Setting up stemming and lemmatizing "
   ]
  },
  {
   "cell_type": "code",
   "execution_count": 7,
   "id": "8f8eb810-eff6-409e-a1bb-1523e77b4cd2",
   "metadata": {},
   "outputs": [],
   "source": [
    "def lemmatize(words):\n",
    "    split_words = words.split()\n",
    "    lem = WordNetLemmatizer()\n",
    "    return ' '.join([lem.lemmatize(word) for word in split_words])"
   ]
  },
  {
   "cell_type": "code",
   "execution_count": 8,
   "id": "9f2c8729-ed11-426b-8a38-f3c1504992d0",
   "metadata": {},
   "outputs": [],
   "source": [
    "def stem(words):\n",
    "    split_words = words.split()\n",
    "    stem = PorterStemmer()\n",
    "    return ' '.join([stem.stem(word) for word in split_words])"
   ]
  },
  {
   "cell_type": "markdown",
   "id": "9b8fac0a-53ee-4749-9a96-b0be5742bd96",
   "metadata": {
    "tags": []
   },
   "source": [
    "## Gridsearch with SVC"
   ]
  },
  {
   "cell_type": "code",
   "execution_count": 9,
   "id": "7626f708-ceaa-4ac1-82b1-e3871a26f392",
   "metadata": {},
   "outputs": [],
   "source": [
    "pipe = Pipeline([\n",
    "    ('cvec', CountVectorizer()),\n",
    "    ('sc', StandardScaler(with_mean=False)),\n",
    "    ('svc', SVC())\n",
    "])"
   ]
  },
  {
   "cell_type": "code",
   "execution_count": 10,
   "id": "bfc7ad08-73fa-4c5a-8293-51806efb4239",
   "metadata": {},
   "outputs": [
    {
     "data": {
      "text/html": [
       "<style>#sk-container-id-1 {color: black;background-color: white;}#sk-container-id-1 pre{padding: 0;}#sk-container-id-1 div.sk-toggleable {background-color: white;}#sk-container-id-1 label.sk-toggleable__label {cursor: pointer;display: block;width: 100%;margin-bottom: 0;padding: 0.3em;box-sizing: border-box;text-align: center;}#sk-container-id-1 label.sk-toggleable__label-arrow:before {content: \"▸\";float: left;margin-right: 0.25em;color: #696969;}#sk-container-id-1 label.sk-toggleable__label-arrow:hover:before {color: black;}#sk-container-id-1 div.sk-estimator:hover label.sk-toggleable__label-arrow:before {color: black;}#sk-container-id-1 div.sk-toggleable__content {max-height: 0;max-width: 0;overflow: hidden;text-align: left;background-color: #f0f8ff;}#sk-container-id-1 div.sk-toggleable__content pre {margin: 0.2em;color: black;border-radius: 0.25em;background-color: #f0f8ff;}#sk-container-id-1 input.sk-toggleable__control:checked~div.sk-toggleable__content {max-height: 200px;max-width: 100%;overflow: auto;}#sk-container-id-1 input.sk-toggleable__control:checked~label.sk-toggleable__label-arrow:before {content: \"▾\";}#sk-container-id-1 div.sk-estimator input.sk-toggleable__control:checked~label.sk-toggleable__label {background-color: #d4ebff;}#sk-container-id-1 div.sk-label input.sk-toggleable__control:checked~label.sk-toggleable__label {background-color: #d4ebff;}#sk-container-id-1 input.sk-hidden--visually {border: 0;clip: rect(1px 1px 1px 1px);clip: rect(1px, 1px, 1px, 1px);height: 1px;margin: -1px;overflow: hidden;padding: 0;position: absolute;width: 1px;}#sk-container-id-1 div.sk-estimator {font-family: monospace;background-color: #f0f8ff;border: 1px dotted black;border-radius: 0.25em;box-sizing: border-box;margin-bottom: 0.5em;}#sk-container-id-1 div.sk-estimator:hover {background-color: #d4ebff;}#sk-container-id-1 div.sk-parallel-item::after {content: \"\";width: 100%;border-bottom: 1px solid gray;flex-grow: 1;}#sk-container-id-1 div.sk-label:hover label.sk-toggleable__label {background-color: #d4ebff;}#sk-container-id-1 div.sk-serial::before {content: \"\";position: absolute;border-left: 1px solid gray;box-sizing: border-box;top: 0;bottom: 0;left: 50%;z-index: 0;}#sk-container-id-1 div.sk-serial {display: flex;flex-direction: column;align-items: center;background-color: white;padding-right: 0.2em;padding-left: 0.2em;position: relative;}#sk-container-id-1 div.sk-item {position: relative;z-index: 1;}#sk-container-id-1 div.sk-parallel {display: flex;align-items: stretch;justify-content: center;background-color: white;position: relative;}#sk-container-id-1 div.sk-item::before, #sk-container-id-1 div.sk-parallel-item::before {content: \"\";position: absolute;border-left: 1px solid gray;box-sizing: border-box;top: 0;bottom: 0;left: 50%;z-index: -1;}#sk-container-id-1 div.sk-parallel-item {display: flex;flex-direction: column;z-index: 1;position: relative;background-color: white;}#sk-container-id-1 div.sk-parallel-item:first-child::after {align-self: flex-end;width: 50%;}#sk-container-id-1 div.sk-parallel-item:last-child::after {align-self: flex-start;width: 50%;}#sk-container-id-1 div.sk-parallel-item:only-child::after {width: 0;}#sk-container-id-1 div.sk-dashed-wrapped {border: 1px dashed gray;margin: 0 0.4em 0.5em 0.4em;box-sizing: border-box;padding-bottom: 0.4em;background-color: white;}#sk-container-id-1 div.sk-label label {font-family: monospace;font-weight: bold;display: inline-block;line-height: 1.2em;}#sk-container-id-1 div.sk-label-container {text-align: center;}#sk-container-id-1 div.sk-container {/* jupyter's `normalize.less` sets `[hidden] { display: none; }` but bootstrap.min.css set `[hidden] { display: none !important; }` so we also need the `!important` here to be able to override the default hidden behavior on the sphinx rendered scikit-learn.org. See: https://github.com/scikit-learn/scikit-learn/issues/21755 */display: inline-block !important;position: relative;}#sk-container-id-1 div.sk-text-repr-fallback {display: none;}</style><div id=\"sk-container-id-1\" class=\"sk-top-container\"><div class=\"sk-text-repr-fallback\"><pre>GridSearchCV(estimator=Pipeline(steps=[(&#x27;cvec&#x27;, CountVectorizer()),\n",
       "                                       (&#x27;sc&#x27;, StandardScaler(with_mean=False)),\n",
       "                                       (&#x27;svc&#x27;, SVC())]),\n",
       "             param_grid={&#x27;cvec__ngram_range&#x27;: [(1, 3), (1, 1), (1, 2), (2, 2)],\n",
       "                         &#x27;cvec__preprocessor&#x27;: [None,\n",
       "                                                &lt;function lemmatize at 0x00000283AAF37EB0&gt;,\n",
       "                                                &lt;function stem at 0x00000283ABFD49D0&gt;],\n",
       "                         &#x27;cvec__stop_words&#x27;: [None, &#x27;english&#x27;,\n",
       "                                              [&#x27;thanks&#x27;, &#x27;good&#x27;, &#x27;know&#x27;, &#x27;want&#x27;,\n",
       "                                               &#x27;time&#x27;, &#x27;just&#x27;, &#x27;like&#x27;, &#x27;day&#x27;,\n",
       "                                               &#x27;ve&#x27;, &#x27;wa&#x27;, &#x27;don&#x27;, &#x27;de&#x27;,\n",
       "                                               &#x27;thanks&#x27;, &#x27;que&#x27;, &#x27;hi&#x27;, &#x27;hey&#x27;,\n",
       "                                               &#x27;anyone&#x27;, &#x27;us&#x27;, &#x27;get&#x27;, &#x27;also&#x27;,\n",
       "                                               &#x27;https&#x27;, &#x27;ha&#x27;, &#x27;le&#x27;, &#x27;un&#x27;, &#x27;el&#x27;,\n",
       "                                               &#x27;la&#x27;, &#x27;en&#x27;, &#x27;es&#x27;]],\n",
       "                         &#x27;svc__C&#x27;: [25, 50, 100]})</pre><b>In a Jupyter environment, please rerun this cell to show the HTML representation or trust the notebook. <br />On GitHub, the HTML representation is unable to render, please try loading this page with nbviewer.org.</b></div><div class=\"sk-container\" hidden><div class=\"sk-item sk-dashed-wrapped\"><div class=\"sk-label-container\"><div class=\"sk-label sk-toggleable\"><input class=\"sk-toggleable__control sk-hidden--visually\" id=\"sk-estimator-id-1\" type=\"checkbox\" ><label for=\"sk-estimator-id-1\" class=\"sk-toggleable__label sk-toggleable__label-arrow\">GridSearchCV</label><div class=\"sk-toggleable__content\"><pre>GridSearchCV(estimator=Pipeline(steps=[(&#x27;cvec&#x27;, CountVectorizer()),\n",
       "                                       (&#x27;sc&#x27;, StandardScaler(with_mean=False)),\n",
       "                                       (&#x27;svc&#x27;, SVC())]),\n",
       "             param_grid={&#x27;cvec__ngram_range&#x27;: [(1, 3), (1, 1), (1, 2), (2, 2)],\n",
       "                         &#x27;cvec__preprocessor&#x27;: [None,\n",
       "                                                &lt;function lemmatize at 0x00000283AAF37EB0&gt;,\n",
       "                                                &lt;function stem at 0x00000283ABFD49D0&gt;],\n",
       "                         &#x27;cvec__stop_words&#x27;: [None, &#x27;english&#x27;,\n",
       "                                              [&#x27;thanks&#x27;, &#x27;good&#x27;, &#x27;know&#x27;, &#x27;want&#x27;,\n",
       "                                               &#x27;time&#x27;, &#x27;just&#x27;, &#x27;like&#x27;, &#x27;day&#x27;,\n",
       "                                               &#x27;ve&#x27;, &#x27;wa&#x27;, &#x27;don&#x27;, &#x27;de&#x27;,\n",
       "                                               &#x27;thanks&#x27;, &#x27;que&#x27;, &#x27;hi&#x27;, &#x27;hey&#x27;,\n",
       "                                               &#x27;anyone&#x27;, &#x27;us&#x27;, &#x27;get&#x27;, &#x27;also&#x27;,\n",
       "                                               &#x27;https&#x27;, &#x27;ha&#x27;, &#x27;le&#x27;, &#x27;un&#x27;, &#x27;el&#x27;,\n",
       "                                               &#x27;la&#x27;, &#x27;en&#x27;, &#x27;es&#x27;]],\n",
       "                         &#x27;svc__C&#x27;: [25, 50, 100]})</pre></div></div></div><div class=\"sk-parallel\"><div class=\"sk-parallel-item\"><div class=\"sk-item\"><div class=\"sk-label-container\"><div class=\"sk-label sk-toggleable\"><input class=\"sk-toggleable__control sk-hidden--visually\" id=\"sk-estimator-id-2\" type=\"checkbox\" ><label for=\"sk-estimator-id-2\" class=\"sk-toggleable__label sk-toggleable__label-arrow\">estimator: Pipeline</label><div class=\"sk-toggleable__content\"><pre>Pipeline(steps=[(&#x27;cvec&#x27;, CountVectorizer()),\n",
       "                (&#x27;sc&#x27;, StandardScaler(with_mean=False)), (&#x27;svc&#x27;, SVC())])</pre></div></div></div><div class=\"sk-serial\"><div class=\"sk-item\"><div class=\"sk-serial\"><div class=\"sk-item\"><div class=\"sk-estimator sk-toggleable\"><input class=\"sk-toggleable__control sk-hidden--visually\" id=\"sk-estimator-id-3\" type=\"checkbox\" ><label for=\"sk-estimator-id-3\" class=\"sk-toggleable__label sk-toggleable__label-arrow\">CountVectorizer</label><div class=\"sk-toggleable__content\"><pre>CountVectorizer()</pre></div></div></div><div class=\"sk-item\"><div class=\"sk-estimator sk-toggleable\"><input class=\"sk-toggleable__control sk-hidden--visually\" id=\"sk-estimator-id-4\" type=\"checkbox\" ><label for=\"sk-estimator-id-4\" class=\"sk-toggleable__label sk-toggleable__label-arrow\">StandardScaler</label><div class=\"sk-toggleable__content\"><pre>StandardScaler(with_mean=False)</pre></div></div></div><div class=\"sk-item\"><div class=\"sk-estimator sk-toggleable\"><input class=\"sk-toggleable__control sk-hidden--visually\" id=\"sk-estimator-id-5\" type=\"checkbox\" ><label for=\"sk-estimator-id-5\" class=\"sk-toggleable__label sk-toggleable__label-arrow\">SVC</label><div class=\"sk-toggleable__content\"><pre>SVC()</pre></div></div></div></div></div></div></div></div></div></div></div></div>"
      ],
      "text/plain": [
       "GridSearchCV(estimator=Pipeline(steps=[('cvec', CountVectorizer()),\n",
       "                                       ('sc', StandardScaler(with_mean=False)),\n",
       "                                       ('svc', SVC())]),\n",
       "             param_grid={'cvec__ngram_range': [(1, 3), (1, 1), (1, 2), (2, 2)],\n",
       "                         'cvec__preprocessor': [None,\n",
       "                                                <function lemmatize at 0x00000283AAF37EB0>,\n",
       "                                                <function stem at 0x00000283ABFD49D0>],\n",
       "                         'cvec__stop_words': [None, 'english',\n",
       "                                              ['thanks', 'good', 'know', 'want',\n",
       "                                               'time', 'just', 'like', 'day',\n",
       "                                               've', 'wa', 'don', 'de',\n",
       "                                               'thanks', 'que', 'hi', 'hey',\n",
       "                                               'anyone', 'us', 'get', 'also',\n",
       "                                               'https', 'ha', 'le', 'un', 'el',\n",
       "                                               'la', 'en', 'es']],\n",
       "                         'svc__C': [25, 50, 100]})"
      ]
     },
     "execution_count": 10,
     "metadata": {},
     "output_type": "execute_result"
    }
   ],
   "source": [
    "params = {\n",
    "    'cvec__stop_words' : [None, \"english\", stopwords_new],\n",
    "    'cvec__preprocessor': [None, lemmatize, stem],\n",
    "    'cvec__ngram_range': [(1,3), (1,1), (1,2), (2,2)],\n",
    "    'svc__C': [25, 50, 100],\n",
    "}\n",
    "\n",
    "gs = GridSearchCV(pipe, param_grid=params)\n",
    "gs.fit(X_train, y_train)"
   ]
  },
  {
   "cell_type": "code",
   "execution_count": 11,
   "id": "7880e879-6a37-461d-b55b-4c7a66b18230",
   "metadata": {
    "tags": []
   },
   "outputs": [
    {
     "name": "stdout",
     "output_type": "stream",
     "text": [
      "Train: 0.9925665101721439\n",
      "Test: 0.6561032863849765\n"
     ]
    }
   ],
   "source": [
    "print('Train:', gs.score(X_train, y_train))\n",
    "print('Test:', gs.score(X_test, y_test))"
   ]
  },
  {
   "cell_type": "code",
   "execution_count": null,
   "id": "3e9c4bab-710c-4031-b595-bc8f93e78e34",
   "metadata": {},
   "outputs": [
    {
     "data": {
      "text/plain": [
       "{'cvec__ngram_range': (1, 2),\n",
       " 'cvec__preprocessor': <function __main__.lemmatize(words)>,\n",
       " 'cvec__stop_words': ['thanks',\n",
       "  'good',\n",
       "  'know',\n",
       "  'want',\n",
       "  'time',\n",
       "  'just',\n",
       "  'like',\n",
       "  'day',\n",
       "  've',\n",
       "  'wa',\n",
       "  'don',\n",
       "  'de',\n",
       "  'thanks',\n",
       "  'que',\n",
       "  'hi',\n",
       "  'hey',\n",
       "  'anyone',\n",
       "  'us',\n",
       "  'get',\n",
       "  'also',\n",
       "  'https',\n",
       "  'ha',\n",
       "  'le',\n",
       "  'un',\n",
       "  'el',\n",
       "  'la',\n",
       "  'en',\n",
       "  'es'],\n",
       " 'svc__C': 50}"
      ]
     },
     "execution_count": 12,
     "metadata": {},
     "output_type": "execute_result"
    }
   ],
   "source": [
    "gs.best_params_"
   ]
  },
  {
   "cell_type": "code",
   "execution_count": 14,
   "id": "082b2a27-2d45-40cc-b7d5-041e78a981e1",
   "metadata": {},
   "outputs": [
    {
     "data": {
      "image/png": "[encoded data removed]",
      "text/plain": [
       "<Figure size 640x480 with 2 Axes>"
      ]
     },
     "metadata": {},
     "output_type": "display_data"
    }
   ],
   "source": [
    "preds = gs.predict(X_test)\n",
    "ConfusionMatrixDisplay.from_predictions(y_test, preds, cmap=plt.cm.Greens)\n",
    "plt.title(\"Confusion Maxtrix with SVC\");\n",
    "plt.savefig('../pictures/Confusion Maxtrix with SVC.png', format='png')"
   ]
  },
  {
   "cell_type": "code",
   "execution_count": null,
   "id": "00bf6e0e-3ae2-42b7-b396-f9f570ce0f09",
   "metadata": {},
   "outputs": [],
   "source": []
  }
 ],
 "metadata": {
  "kernelspec": {
   "display_name": "Python 3 (ipykernel)",
   "language": "python",
   "name": "python3"
  },
  "language_info": {
   "codemirror_mode": {
    "name": "ipython",
    "version": 3
   },
   "file_extension": ".py",
   "mimetype": "text/x-python",
   "name": "python",
   "nbconvert_exporter": "python",
   "pygments_lexer": "ipython3",
   "version": "3.10.9"
  }
 },
 "nbformat": 4,
 "nbformat_minor": 5
}
