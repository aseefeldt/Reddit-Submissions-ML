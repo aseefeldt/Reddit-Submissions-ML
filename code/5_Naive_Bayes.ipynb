{
 "cells": [
  {
   "cell_type": "markdown",
   "id": "d98d8532-4758-485a-9036-716139abade1",
   "metadata": {},
   "source": [
    "## Imports"
   ]
  },
  {
   "cell_type": "code",
   "execution_count": 1,
   "id": "c15f418b-8ac7-4970-ac55-8e6394302cb0",
   "metadata": {},
   "outputs": [],
   "source": [
    "import pandas as pd \n",
    "import matplotlib.pyplot as plt\n",
    "\n",
    "from sklearn.feature_extraction.text import CountVectorizer\n",
    "from sklearn.model_selection import train_test_split\n",
    "from sklearn.pipeline import Pipeline\n",
    "from sklearn.naive_bayes import MultinomialNB\n",
    "from sklearn.metrics import confusion_matrix, ConfusionMatrixDisplay, classification_report\n",
    "from sklearn.model_selection import GridSearchCV\n",
    "from nltk.stem import WordNetLemmatizer, PorterStemmer\n",
    "from nltk.corpus import stopwords\n",
    "\n",
    "import warnings\n",
    "warnings.filterwarnings('ignore')"
   ]
  },
  {
   "cell_type": "markdown",
   "id": "987fbaf3-2727-477c-9066-c88a5b82aa7b",
   "metadata": {},
   "source": [
    "## Reading in Data "
   ]
  },
  {
   "cell_type": "code",
   "execution_count": 2,
   "id": "2992db21-ddfd-415a-877a-fa99f11a33b4",
   "metadata": {},
   "outputs": [],
   "source": [
    "df = pd.read_csv('../datasets/subs2.csv', encoding='utf-8')\n"
   ]
  },
  {
   "cell_type": "code",
   "execution_count": 3,
   "id": "ccac7035-8e78-4ad8-b95d-37b79e92f999",
   "metadata": {},
   "outputs": [
    {
     "data": {
      "text/html": [
       "<div>\n",
       "<style scoped>\n",
       "    .dataframe tbody tr th:only-of-type {\n",
       "        vertical-align: middle;\n",
       "    }\n",
       "\n",
       "    .dataframe tbody tr th {\n",
       "        vertical-align: top;\n",
       "    }\n",
       "\n",
       "    .dataframe thead th {\n",
       "        text-align: right;\n",
       "    }\n",
       "</style>\n",
       "<table border=\"1\" class=\"dataframe\">\n",
       "  <thead>\n",
       "    <tr style=\"text-align: right;\">\n",
       "      <th></th>\n",
       "      <th>title</th>\n",
       "      <th>self_text</th>\n",
       "      <th>subreddit</th>\n",
       "      <th>text_words</th>\n",
       "    </tr>\n",
       "  </thead>\n",
       "  <tbody>\n",
       "    <tr>\n",
       "      <th>0</th>\n",
       "      <td>Looking for Costa Rican Spanish speakers for a...</td>\n",
       "      <td>hey guys! i'm a linguistics phd student and i'...</td>\n",
       "      <td>0</td>\n",
       "      <td>123</td>\n",
       "    </tr>\n",
       "    <tr>\n",
       "      <th>1</th>\n",
       "      <td>Traveling to CR as a tica...</td>\n",
       "      <td>hi! i am costa_rican-american but have never b...</td>\n",
       "      <td>0</td>\n",
       "      <td>167</td>\n",
       "    </tr>\n",
       "    <tr>\n",
       "      <th>2</th>\n",
       "      <td>Puerto Viejo</td>\n",
       "      <td>sunset pic on the caribbean coast, thanks to s...</td>\n",
       "      <td>0</td>\n",
       "      <td>11</td>\n",
       "    </tr>\n",
       "    <tr>\n",
       "      <th>3</th>\n",
       "      <td>Bought a bed. They made it right in front of me!</td>\n",
       "      <td>nice craftsmanship and impressed they built an...</td>\n",
       "      <td>0</td>\n",
       "      <td>26</td>\n",
       "    </tr>\n",
       "    <tr>\n",
       "      <th>4</th>\n",
       "      <td>How can I give back to Costa Rica?</td>\n",
       "      <td>hi, if i move to costa_rica part time as an am...</td>\n",
       "      <td>0</td>\n",
       "      <td>36</td>\n",
       "    </tr>\n",
       "  </tbody>\n",
       "</table>\n",
       "</div>"
      ],
      "text/plain": [
       "                                               title  \\\n",
       "0  Looking for Costa Rican Spanish speakers for a...   \n",
       "1                       Traveling to CR as a tica...   \n",
       "2                                       Puerto Viejo   \n",
       "3   Bought a bed. They made it right in front of me!   \n",
       "4                 How can I give back to Costa Rica?   \n",
       "\n",
       "                                           self_text  subreddit  text_words  \n",
       "0  hey guys! i'm a linguistics phd student and i'...          0         123  \n",
       "1  hi! i am costa_rican-american but have never b...          0         167  \n",
       "2  sunset pic on the caribbean coast, thanks to s...          0          11  \n",
       "3  nice craftsmanship and impressed they built an...          0          26  \n",
       "4  hi, if i move to costa_rica part time as an am...          0          36  "
      ]
     },
     "execution_count": 3,
     "metadata": {},
     "output_type": "execute_result"
    }
   ],
   "source": [
    "df.head()"
   ]
  },
  {
   "cell_type": "markdown",
   "id": "8989fe9b-ea58-44c5-a93b-21265131d0d6",
   "metadata": {},
   "source": [
    "## Reading in Custom Stopwords\n"
   ]
  },
  {
   "cell_type": "code",
   "execution_count": 4,
   "id": "08de2ef4-4285-425b-ad5d-f4dc060e5649",
   "metadata": {},
   "outputs": [],
   "source": [
    "stopwords_df = pd.read_csv('../datasets/custom_stopwords.csv')\n",
    "stopwords_new = stopwords_df['custom_stopwords'].tolist()\n",
    "stopwords = stopwords.words('english')\n",
    "stopwords_custom = stopwords +stopwords_new"
   ]
  },
  {
   "cell_type": "markdown",
   "id": "86e5c371-0265-46d3-b6bd-0f9edbea5691",
   "metadata": {
    "tags": []
   },
   "source": [
    "## Setting up Data "
   ]
  },
  {
   "cell_type": "code",
   "execution_count": 5,
   "id": "0f196614-c9ff-4a5c-96e8-8d6c4708878d",
   "metadata": {},
   "outputs": [],
   "source": [
    "X= df['self_text']\n",
    "y=df['subreddit']"
   ]
  },
  {
   "cell_type": "markdown",
   "id": "8868e75f-cfce-4785-8498-1a4050231469",
   "metadata": {},
   "source": [
    "## Train Test Split "
   ]
  },
  {
   "cell_type": "code",
   "execution_count": 6,
   "id": "cd1a11c9-b01b-4295-a2ba-d146f4d268d9",
   "metadata": {},
   "outputs": [],
   "source": [
    "X_train, X_test, y_train, y_test = train_test_split(X, y, random_state=42)"
   ]
  },
  {
   "cell_type": "markdown",
   "id": "841f22ce-1063-4095-a6d6-72e700ee5634",
   "metadata": {},
   "source": [
    "## Setting up stemming and lemmatizing "
   ]
  },
  {
   "cell_type": "code",
   "execution_count": 7,
   "id": "8f8eb810-eff6-409e-a1bb-1523e77b4cd2",
   "metadata": {},
   "outputs": [],
   "source": [
    "def lemmatize(words):\n",
    "    split_words = words.split()\n",
    "    lem = WordNetLemmatizer()\n",
    "    return ' '.join([lem.lemmatize(word) for word in split_words])"
   ]
  },
  {
   "cell_type": "code",
   "execution_count": 8,
   "id": "9f2c8729-ed11-426b-8a38-f3c1504992d0",
   "metadata": {},
   "outputs": [],
   "source": [
    "def stem(words):\n",
    "    split_words = words.split()\n",
    "    stem = PorterStemmer()\n",
    "    return ' '.join([stem.stem(word) for word in split_words])"
   ]
  },
  {
   "cell_type": "markdown",
   "id": "9b8fac0a-53ee-4749-9a96-b0be5742bd96",
   "metadata": {},
   "source": [
    "## Gridsearch with Naive Bayes"
   ]
  },
  {
   "cell_type": "code",
   "execution_count": 15,
   "id": "21470d9d-7517-45ee-8ad2-79dd511b87b2",
   "metadata": {},
   "outputs": [
    {
     "data": {
      "text/plain": [
       "{'memory': None,\n",
       " 'steps': [('cvec', CountVectorizer()), ('nb', MultinomialNB())],\n",
       " 'verbose': False,\n",
       " 'cvec': CountVectorizer(),\n",
       " 'nb': MultinomialNB(),\n",
       " 'cvec__analyzer': 'word',\n",
       " 'cvec__binary': False,\n",
       " 'cvec__decode_error': 'strict',\n",
       " 'cvec__dtype': numpy.int64,\n",
       " 'cvec__encoding': 'utf-8',\n",
       " 'cvec__input': 'content',\n",
       " 'cvec__lowercase': True,\n",
       " 'cvec__max_df': 1.0,\n",
       " 'cvec__max_features': None,\n",
       " 'cvec__min_df': 1,\n",
       " 'cvec__ngram_range': (1, 1),\n",
       " 'cvec__preprocessor': None,\n",
       " 'cvec__stop_words': None,\n",
       " 'cvec__strip_accents': None,\n",
       " 'cvec__token_pattern': '(?u)\\\\b\\\\w\\\\w+\\\\b',\n",
       " 'cvec__tokenizer': None,\n",
       " 'cvec__vocabulary': None,\n",
       " 'nb__alpha': 1.0,\n",
       " 'nb__class_prior': None,\n",
       " 'nb__fit_prior': True,\n",
       " 'nb__force_alpha': 'warn'}"
      ]
     },
     "execution_count": 15,
     "metadata": {},
     "output_type": "execute_result"
    }
   ],
   "source": [
    "pipe_nb.get_params()"
   ]
  },
  {
   "cell_type": "code",
   "execution_count": 9,
   "id": "0b87501e-a106-44b5-9779-91e0c8a21cb1",
   "metadata": {},
   "outputs": [],
   "source": [
    "pipe_nb = Pipeline([\n",
    "    ('cvec', CountVectorizer()),\n",
    "    ('nb', MultinomialNB())\n",
    "     ])"
   ]
  },
  {
   "cell_type": "code",
   "execution_count": null,
   "id": "8bc594db-1231-422d-a672-023b780ad230",
   "metadata": {
    "tags": []
   },
   "outputs": [],
   "source": [
    "params = {\n",
    "    'cvec__stop_words' : [None, \"english\", stopwords_custom, stopwords_new],\n",
    "    'cvec__preprocessor': [None, lemmatize, stem],\n",
    "    'cvec__ngram_range': [(1,3), (1,1), (1,2), (2,2)],\n",
    "    'nb__fit_prior': [True, False],\n",
    "    'nb__alpha': [.3, .5, .75, 1]\n",
    "}\n",
    "\n",
    "gs = GridSearchCV(pipe_nb, param_grid=params)\n",
    "gs.fit(X_train, y_train)"
   ]
  },
  {
   "cell_type": "code",
   "execution_count": 11,
   "id": "7880e879-6a37-461d-b55b-4c7a66b18230",
   "metadata": {
    "tags": []
   },
   "outputs": [
    {
     "name": "stdout",
     "output_type": "stream",
     "text": [
      "Train: 0.8247261345852895\n",
      "Test: 0.7077464788732394\n"
     ]
    }
   ],
   "source": [
    "print('Train:', gs.score(X_train, y_train))\n",
    "print('Test:', gs.score(X_test, y_test))"
   ]
  },
  {
   "cell_type": "code",
   "execution_count": 12,
   "id": "3e9c4bab-710c-4031-b595-bc8f93e78e34",
   "metadata": {},
   "outputs": [
    {
     "data": {
      "text/plain": [
       "{'cvec__ngram_range': (1, 1),\n",
       " 'cvec__preprocessor': None,\n",
       " 'cvec__stop_words': 'english',\n",
       " 'nb__alpha': 0.5}"
      ]
     },
     "execution_count": 12,
     "metadata": {},
     "output_type": "execute_result"
    }
   ],
   "source": [
    "gs.best_params_"
   ]
  },
  {
   "cell_type": "code",
   "execution_count": 13,
   "id": "082b2a27-2d45-40cc-b7d5-041e78a981e1",
   "metadata": {},
   "outputs": [
    {
     "data": {
      "image/png": "[encoded data removed]",
      "text/plain": [
       "<Figure size 640x480 with 2 Axes>"
      ]
     },
     "metadata": {},
     "output_type": "display_data"
    }
   ],
   "source": [
    "preds = gs.predict(X_test)\n",
    "ConfusionMatrixDisplay.from_predictions(y_test, preds, cmap=plt.cm.Blues)\n",
    "plt.title(\"Confusion Maxtrix with NB\");\n",
    "plt.savefig('../pictures/Confusion Maxtrix with NB.png', format='png')"
   ]
  }
 ],
 "metadata": {
  "kernelspec": {
   "display_name": "Python 3 (ipykernel)",
   "language": "python",
   "name": "python3"
  },
  "language_info": {
   "codemirror_mode": {
    "name": "ipython",
    "version": 3
   },
   "file_extension": ".py",
   "mimetype": "text/x-python",
   "name": "python",
   "nbconvert_exporter": "python",
   "pygments_lexer": "ipython3",
   "version": "3.10.9"
  }
 },
 "nbformat": 4,
 "nbformat_minor": 5
}
