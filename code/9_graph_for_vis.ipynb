{
 "cells": [
  {
   "cell_type": "code",
   "execution_count": 17,
   "id": "5b1850b1-3fca-42aa-ba50-d25a4812db3e",
   "metadata": {},
   "outputs": [],
   "source": [
    "import pandas as pd \n",
    "import matplotlib.pyplot as plt\n",
    "import seaborn as sns"
   ]
  },
  {
   "cell_type": "code",
   "execution_count": 18,
   "id": "96b6c785-cc1f-4412-ba97-66956a8ed550",
   "metadata": {},
   "outputs": [],
   "source": [
    "combined_score = pd.DataFrame.from_dict({'Baseline':[57.80],'KNN':[56.69],  'RF': [62.08], 'SVC': [65.61], 'Log':[68.30], 'NB':[70.77]})"
   ]
  },
  {
   "cell_type": "code",
   "execution_count": 19,
   "id": "5ec1b32b-c82a-45be-8881-da53b969e947",
   "metadata": {},
   "outputs": [
    {
     "data": {
      "text/html": [
       "<div>\n",
       "<style scoped>\n",
       "    .dataframe tbody tr th:only-of-type {\n",
       "        vertical-align: middle;\n",
       "    }\n",
       "\n",
       "    .dataframe tbody tr th {\n",
       "        vertical-align: top;\n",
       "    }\n",
       "\n",
       "    .dataframe thead th {\n",
       "        text-align: right;\n",
       "    }\n",
       "</style>\n",
       "<table border=\"1\" class=\"dataframe\">\n",
       "  <thead>\n",
       "    <tr style=\"text-align: right;\">\n",
       "      <th></th>\n",
       "      <th>Baseline</th>\n",
       "      <th>KNN</th>\n",
       "      <th>RF</th>\n",
       "      <th>SVC</th>\n",
       "      <th>Log</th>\n",
       "      <th>NB</th>\n",
       "    </tr>\n",
       "  </thead>\n",
       "  <tbody>\n",
       "    <tr>\n",
       "      <th>0</th>\n",
       "      <td>57.8</td>\n",
       "      <td>56.69</td>\n",
       "      <td>62.08</td>\n",
       "      <td>65.61</td>\n",
       "      <td>68.42</td>\n",
       "      <td>70.77</td>\n",
       "    </tr>\n",
       "  </tbody>\n",
       "</table>\n",
       "</div>"
      ],
      "text/plain": [
       "   Baseline    KNN     RF    SVC    Log     NB\n",
       "0      57.8  56.69  62.08  65.61  68.42  70.77"
      ]
     },
     "execution_count": 19,
     "metadata": {},
     "output_type": "execute_result"
    }
   ],
   "source": [
    "combined_score.head()"
   ]
  },
  {
   "cell_type": "code",
   "execution_count": 22,
   "id": "acc14a6e-5a68-4b3b-96af-13560d96b1a7",
   "metadata": {},
   "outputs": [
    {
     "data": {
      "image/png": "[encoded data removed]",
      "text/plain": [
       "<Figure size 640x480 with 1 Axes>"
      ]
     },
     "metadata": {},
     "output_type": "display_data"
    }
   ],
   "source": [
    "sns.barplot(y=combined_score.columns, x=combined_score.values.flatten())\n",
    "plt.xlabel('Accuracy Scores')\n",
    "plt.ylabel('Models')\n",
    "plt.title('Comparison of Models')\n",
    "plt.savefig('../pictures/modelplot.png', format='png')"
   ]
  },
  {
   "cell_type": "code",
   "execution_count": 21,
   "id": "6f97edfc-7d21-4605-8a4f-b6e47f8b0eee",
   "metadata": {},
   "outputs": [
    {
     "data": {
      "text/plain": [
       "<Figure size 640x480 with 0 Axes>"
      ]
     },
     "metadata": {},
     "output_type": "display_data"
    }
   ],
   "source": []
  },
  {
   "cell_type": "code",
   "execution_count": null,
   "id": "69e0a103-e049-42d6-af77-975eb680216d",
   "metadata": {},
   "outputs": [],
   "source": []
  }
 ],
 "metadata": {
  "kernelspec": {
   "display_name": "Python 3 (ipykernel)",
   "language": "python",
   "name": "python3"
  },
  "language_info": {
   "codemirror_mode": {
    "name": "ipython",
    "version": 3
   },
   "file_extension": ".py",
   "mimetype": "text/x-python",
   "name": "python",
   "nbconvert_exporter": "python",
   "pygments_lexer": "ipython3",
   "version": "3.10.9"
  }
 },
 "nbformat": 4,
 "nbformat_minor": 5
}
